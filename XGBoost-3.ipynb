{
  "cells": [
    {
      "cell_type": "markdown",
      "metadata": {
        "id": "8jJieI1uZBKe"
      },
      "source": [
        "XGBoost (eXtreme Gradient Boosting) is an open-source software library for gradient boosting on decision trees. It is designed to be efficient and scalable, and has been widely used in machine learning competitions and in industry. XGBoost is known for its ability to handle missing values and categorical variables, and for its fast training speed and good performance on a variety of tasks. It also has built-in support for parallel processing, which can further speed up training."
      ]
    },
    {
      "cell_type": "code",
      "execution_count": 1,
      "metadata": {
        "colab": {
          "base_uri": "https://localhost:8080/"
        },
        "id": "HEaGftdEZLlI",
        "outputId": "d0512043-bf10-45c8-a4a9-83918edcd6b1"
      },
      "outputs": [
        {
          "name": "stdout",
          "output_type": "stream",
          "text": [
            "Requirement already satisfied: xgboost in /Library/Frameworks/Python.framework/Versions/3.9/lib/python3.9/site-packages (1.7.3)\n",
            "Requirement already satisfied: scipy in /Library/Frameworks/Python.framework/Versions/3.9/lib/python3.9/site-packages (from xgboost) (1.10.0)\n",
            "Requirement already satisfied: numpy in /Library/Frameworks/Python.framework/Versions/3.9/lib/python3.9/site-packages (from xgboost) (1.24.1)\n",
            "\u001b[33mWARNING: You are using pip version 22.0.3; however, version 22.3.1 is available.\n",
            "You should consider upgrading via the '/usr/local/bin/python3 -m pip install --upgrade pip' command.\u001b[0m\u001b[33m\n",
            "\u001b[0mNote: you may need to restart the kernel to use updated packages.\n"
          ]
        }
      ],
      "source": [
        "pip install xgboost\n",
        "pip install -U scikit-learn"
      ]
    },
    {
      "cell_type": "code",
      "execution_count": 1,
      "metadata": {
        "id": "puvL4p1ZUWkS"
      },
      "outputs": [],
      "source": [
        "import warnings \n",
        "warnings.filterwarnings('ignore')\n",
        "\n",
        "import pandas as pd\n",
        "import numpy as np\n",
        "from plotnine import *\n",
        "import statsmodels.api as sm\n",
        "\n",
        "from sklearn.model_selection import train_test_split \n",
        "from sklearn.metrics import mean_squared_error\n",
        "from sklearn.linear_model import LinearRegression # Linear Regression Model\n",
        "from sklearn.preprocessing import StandardScaler #Z-score variables\n",
        "from sklearn.metrics import mean_squared_error, r2_score #model evaluation\n",
        "\n",
        "from sklearn.model_selection import KFold # k-fold cv\n",
        "from sklearn.model_selection import LeaveOneOut #LOO cv\n",
        "\n",
        "from sklearn.tree import DecisionTreeRegressor\n",
        "from sklearn.ensemble import GradientBoostingRegressor\n",
        "\n",
        "import xgboost as xgb\n",
        "from sklearn.metrics import accuracy_score\n",
        "\n",
        "%matplotlib inline\n"
      ]
    },
    {
      "cell_type": "code",
      "execution_count": 4,
      "metadata": {
        "id": "8VtsJ7vMTx-i"
      },
      "outputs": [],
      "source": [
        "#Import the data\n",
        "\n",
        "trainData = pd.read_csv('/Users/elliestrande/Desktop/WiDS/widsdatathon2023/train_data.csv')\n",
        "testData = pd.read_csv('/Users/elliestrande/Desktop/WiDS/widsdatathon2023/test_data.csv')\n"
      ]
    },
    {
      "cell_type": "code",
      "execution_count": 5,
      "metadata": {
        "colab": {
          "base_uri": "https://localhost:8080/",
          "height": 551
        },
        "id": "zu0IBPp7F9bk",
        "outputId": "2bb58716-de70-408d-9185-dfdd20df0740"
      },
      "outputs": [
        {
          "data": {
            "text/html": [
              "<div>\n",
              "<style scoped>\n",
              "    .dataframe tbody tr th:only-of-type {\n",
              "        vertical-align: middle;\n",
              "    }\n",
              "\n",
              "    .dataframe tbody tr th {\n",
              "        vertical-align: top;\n",
              "    }\n",
              "\n",
              "    .dataframe thead th {\n",
              "        text-align: right;\n",
              "    }\n",
              "</style>\n",
              "<table border=\"1\" class=\"dataframe\">\n",
              "  <thead>\n",
              "    <tr style=\"text-align: right;\">\n",
              "      <th></th>\n",
              "      <th>index</th>\n",
              "      <th>lat</th>\n",
              "      <th>lon</th>\n",
              "      <th>startdate</th>\n",
              "      <th>contest-pevpr-sfc-gauss-14d__pevpr</th>\n",
              "      <th>nmme0-tmp2m-34w__cancm30</th>\n",
              "      <th>nmme0-tmp2m-34w__cancm40</th>\n",
              "      <th>nmme0-tmp2m-34w__ccsm30</th>\n",
              "      <th>nmme0-tmp2m-34w__ccsm40</th>\n",
              "      <th>nmme0-tmp2m-34w__cfsv20</th>\n",
              "      <th>...</th>\n",
              "      <th>wind-vwnd-925-2010-11</th>\n",
              "      <th>wind-vwnd-925-2010-12</th>\n",
              "      <th>wind-vwnd-925-2010-13</th>\n",
              "      <th>wind-vwnd-925-2010-14</th>\n",
              "      <th>wind-vwnd-925-2010-15</th>\n",
              "      <th>wind-vwnd-925-2010-16</th>\n",
              "      <th>wind-vwnd-925-2010-17</th>\n",
              "      <th>wind-vwnd-925-2010-18</th>\n",
              "      <th>wind-vwnd-925-2010-19</th>\n",
              "      <th>wind-vwnd-925-2010-20</th>\n",
              "    </tr>\n",
              "  </thead>\n",
              "  <tbody>\n",
              "    <tr>\n",
              "      <th>0</th>\n",
              "      <td>0</td>\n",
              "      <td>0.0</td>\n",
              "      <td>0.833333</td>\n",
              "      <td>9/1/14</td>\n",
              "      <td>237.00</td>\n",
              "      <td>29.02</td>\n",
              "      <td>31.64</td>\n",
              "      <td>29.57</td>\n",
              "      <td>30.73</td>\n",
              "      <td>29.71</td>\n",
              "      <td>...</td>\n",
              "      <td>-27.68</td>\n",
              "      <td>-37.21</td>\n",
              "      <td>8.32</td>\n",
              "      <td>9.56</td>\n",
              "      <td>-2.03</td>\n",
              "      <td>48.13</td>\n",
              "      <td>28.09</td>\n",
              "      <td>-13.50</td>\n",
              "      <td>11.90</td>\n",
              "      <td>4.58</td>\n",
              "    </tr>\n",
              "    <tr>\n",
              "      <th>1</th>\n",
              "      <td>1</td>\n",
              "      <td>0.0</td>\n",
              "      <td>0.833333</td>\n",
              "      <td>9/2/14</td>\n",
              "      <td>228.90</td>\n",
              "      <td>29.02</td>\n",
              "      <td>31.64</td>\n",
              "      <td>29.57</td>\n",
              "      <td>30.73</td>\n",
              "      <td>29.71</td>\n",
              "      <td>...</td>\n",
              "      <td>-21.13</td>\n",
              "      <td>-36.57</td>\n",
              "      <td>8.77</td>\n",
              "      <td>21.17</td>\n",
              "      <td>4.44</td>\n",
              "      <td>48.60</td>\n",
              "      <td>27.41</td>\n",
              "      <td>-23.77</td>\n",
              "      <td>15.44</td>\n",
              "      <td>3.42</td>\n",
              "    </tr>\n",
              "    <tr>\n",
              "      <th>2</th>\n",
              "      <td>2</td>\n",
              "      <td>0.0</td>\n",
              "      <td>0.833333</td>\n",
              "      <td>9/3/14</td>\n",
              "      <td>220.69</td>\n",
              "      <td>29.02</td>\n",
              "      <td>31.64</td>\n",
              "      <td>29.57</td>\n",
              "      <td>30.73</td>\n",
              "      <td>29.71</td>\n",
              "      <td>...</td>\n",
              "      <td>-10.72</td>\n",
              "      <td>-34.16</td>\n",
              "      <td>6.99</td>\n",
              "      <td>32.16</td>\n",
              "      <td>5.01</td>\n",
              "      <td>48.53</td>\n",
              "      <td>19.21</td>\n",
              "      <td>-33.16</td>\n",
              "      <td>15.11</td>\n",
              "      <td>4.82</td>\n",
              "    </tr>\n",
              "    <tr>\n",
              "      <th>3</th>\n",
              "      <td>3</td>\n",
              "      <td>0.0</td>\n",
              "      <td>0.833333</td>\n",
              "      <td>9/4/14</td>\n",
              "      <td>225.28</td>\n",
              "      <td>29.02</td>\n",
              "      <td>31.64</td>\n",
              "      <td>29.57</td>\n",
              "      <td>30.73</td>\n",
              "      <td>29.71</td>\n",
              "      <td>...</td>\n",
              "      <td>0.33</td>\n",
              "      <td>-31.04</td>\n",
              "      <td>6.17</td>\n",
              "      <td>39.66</td>\n",
              "      <td>-1.41</td>\n",
              "      <td>50.59</td>\n",
              "      <td>8.29</td>\n",
              "      <td>-37.22</td>\n",
              "      <td>18.24</td>\n",
              "      <td>9.74</td>\n",
              "    </tr>\n",
              "    <tr>\n",
              "      <th>4</th>\n",
              "      <td>4</td>\n",
              "      <td>0.0</td>\n",
              "      <td>0.833333</td>\n",
              "      <td>9/5/14</td>\n",
              "      <td>237.24</td>\n",
              "      <td>29.02</td>\n",
              "      <td>31.64</td>\n",
              "      <td>29.57</td>\n",
              "      <td>30.73</td>\n",
              "      <td>29.71</td>\n",
              "      <td>...</td>\n",
              "      <td>9.83</td>\n",
              "      <td>-31.80</td>\n",
              "      <td>7.47</td>\n",
              "      <td>38.62</td>\n",
              "      <td>-5.21</td>\n",
              "      <td>54.73</td>\n",
              "      <td>-2.58</td>\n",
              "      <td>-42.30</td>\n",
              "      <td>21.91</td>\n",
              "      <td>10.95</td>\n",
              "    </tr>\n",
              "    <tr>\n",
              "      <th>...</th>\n",
              "      <td>...</td>\n",
              "      <td>...</td>\n",
              "      <td>...</td>\n",
              "      <td>...</td>\n",
              "      <td>...</td>\n",
              "      <td>...</td>\n",
              "      <td>...</td>\n",
              "      <td>...</td>\n",
              "      <td>...</td>\n",
              "      <td>...</td>\n",
              "      <td>...</td>\n",
              "      <td>...</td>\n",
              "      <td>...</td>\n",
              "      <td>...</td>\n",
              "      <td>...</td>\n",
              "      <td>...</td>\n",
              "      <td>...</td>\n",
              "      <td>...</td>\n",
              "      <td>...</td>\n",
              "      <td>...</td>\n",
              "      <td>...</td>\n",
              "    </tr>\n",
              "    <tr>\n",
              "      <th>375729</th>\n",
              "      <td>375729</td>\n",
              "      <td>1.0</td>\n",
              "      <td>0.866667</td>\n",
              "      <td>8/27/16</td>\n",
              "      <td>312.05</td>\n",
              "      <td>23.13</td>\n",
              "      <td>27.20</td>\n",
              "      <td>20.25</td>\n",
              "      <td>24.43</td>\n",
              "      <td>18.35</td>\n",
              "      <td>...</td>\n",
              "      <td>-15.64</td>\n",
              "      <td>-75.68</td>\n",
              "      <td>-3.09</td>\n",
              "      <td>6.93</td>\n",
              "      <td>-16.69</td>\n",
              "      <td>16.98</td>\n",
              "      <td>-13.85</td>\n",
              "      <td>50.25</td>\n",
              "      <td>-31.33</td>\n",
              "      <td>0.77</td>\n",
              "    </tr>\n",
              "    <tr>\n",
              "      <th>375730</th>\n",
              "      <td>375730</td>\n",
              "      <td>1.0</td>\n",
              "      <td>0.866667</td>\n",
              "      <td>8/28/16</td>\n",
              "      <td>305.82</td>\n",
              "      <td>23.13</td>\n",
              "      <td>27.20</td>\n",
              "      <td>20.25</td>\n",
              "      <td>24.43</td>\n",
              "      <td>18.35</td>\n",
              "      <td>...</td>\n",
              "      <td>-7.59</td>\n",
              "      <td>-76.42</td>\n",
              "      <td>-13.55</td>\n",
              "      <td>13.36</td>\n",
              "      <td>-15.96</td>\n",
              "      <td>20.45</td>\n",
              "      <td>-16.36</td>\n",
              "      <td>51.65</td>\n",
              "      <td>-30.73</td>\n",
              "      <td>10.10</td>\n",
              "    </tr>\n",
              "    <tr>\n",
              "      <th>375731</th>\n",
              "      <td>375731</td>\n",
              "      <td>1.0</td>\n",
              "      <td>0.866667</td>\n",
              "      <td>8/29/16</td>\n",
              "      <td>311.62</td>\n",
              "      <td>23.13</td>\n",
              "      <td>27.20</td>\n",
              "      <td>20.25</td>\n",
              "      <td>24.43</td>\n",
              "      <td>18.35</td>\n",
              "      <td>...</td>\n",
              "      <td>-6.25</td>\n",
              "      <td>-70.65</td>\n",
              "      <td>-23.93</td>\n",
              "      <td>22.62</td>\n",
              "      <td>-16.71</td>\n",
              "      <td>20.28</td>\n",
              "      <td>-15.48</td>\n",
              "      <td>48.58</td>\n",
              "      <td>-18.74</td>\n",
              "      <td>9.28</td>\n",
              "    </tr>\n",
              "    <tr>\n",
              "      <th>375732</th>\n",
              "      <td>375732</td>\n",
              "      <td>1.0</td>\n",
              "      <td>0.866667</td>\n",
              "      <td>8/30/16</td>\n",
              "      <td>304.54</td>\n",
              "      <td>23.13</td>\n",
              "      <td>27.20</td>\n",
              "      <td>20.25</td>\n",
              "      <td>24.43</td>\n",
              "      <td>18.35</td>\n",
              "      <td>...</td>\n",
              "      <td>-7.16</td>\n",
              "      <td>-57.67</td>\n",
              "      <td>-33.55</td>\n",
              "      <td>32.06</td>\n",
              "      <td>-16.07</td>\n",
              "      <td>16.60</td>\n",
              "      <td>-20.61</td>\n",
              "      <td>39.23</td>\n",
              "      <td>-16.26</td>\n",
              "      <td>-0.22</td>\n",
              "    </tr>\n",
              "    <tr>\n",
              "      <th>375733</th>\n",
              "      <td>375733</td>\n",
              "      <td>1.0</td>\n",
              "      <td>0.866667</td>\n",
              "      <td>8/31/16</td>\n",
              "      <td>295.29</td>\n",
              "      <td>23.13</td>\n",
              "      <td>27.20</td>\n",
              "      <td>20.25</td>\n",
              "      <td>24.43</td>\n",
              "      <td>18.35</td>\n",
              "      <td>...</td>\n",
              "      <td>-12.36</td>\n",
              "      <td>-44.67</td>\n",
              "      <td>-32.46</td>\n",
              "      <td>36.25</td>\n",
              "      <td>-12.72</td>\n",
              "      <td>15.98</td>\n",
              "      <td>-22.56</td>\n",
              "      <td>32.53</td>\n",
              "      <td>-21.89</td>\n",
              "      <td>-1.20</td>\n",
              "    </tr>\n",
              "  </tbody>\n",
              "</table>\n",
              "<p>352604 rows × 246 columns</p>\n",
              "</div>"
            ],
            "text/plain": [
              "         index  lat       lon startdate  contest-pevpr-sfc-gauss-14d__pevpr  \\\n",
              "0            0  0.0  0.833333    9/1/14                              237.00   \n",
              "1            1  0.0  0.833333    9/2/14                              228.90   \n",
              "2            2  0.0  0.833333    9/3/14                              220.69   \n",
              "3            3  0.0  0.833333    9/4/14                              225.28   \n",
              "4            4  0.0  0.833333    9/5/14                              237.24   \n",
              "...        ...  ...       ...       ...                                 ...   \n",
              "375729  375729  1.0  0.866667   8/27/16                              312.05   \n",
              "375730  375730  1.0  0.866667   8/28/16                              305.82   \n",
              "375731  375731  1.0  0.866667   8/29/16                              311.62   \n",
              "375732  375732  1.0  0.866667   8/30/16                              304.54   \n",
              "375733  375733  1.0  0.866667   8/31/16                              295.29   \n",
              "\n",
              "        nmme0-tmp2m-34w__cancm30  nmme0-tmp2m-34w__cancm40  \\\n",
              "0                          29.02                     31.64   \n",
              "1                          29.02                     31.64   \n",
              "2                          29.02                     31.64   \n",
              "3                          29.02                     31.64   \n",
              "4                          29.02                     31.64   \n",
              "...                          ...                       ...   \n",
              "375729                     23.13                     27.20   \n",
              "375730                     23.13                     27.20   \n",
              "375731                     23.13                     27.20   \n",
              "375732                     23.13                     27.20   \n",
              "375733                     23.13                     27.20   \n",
              "\n",
              "        nmme0-tmp2m-34w__ccsm30  nmme0-tmp2m-34w__ccsm40  \\\n",
              "0                         29.57                    30.73   \n",
              "1                         29.57                    30.73   \n",
              "2                         29.57                    30.73   \n",
              "3                         29.57                    30.73   \n",
              "4                         29.57                    30.73   \n",
              "...                         ...                      ...   \n",
              "375729                    20.25                    24.43   \n",
              "375730                    20.25                    24.43   \n",
              "375731                    20.25                    24.43   \n",
              "375732                    20.25                    24.43   \n",
              "375733                    20.25                    24.43   \n",
              "\n",
              "        nmme0-tmp2m-34w__cfsv20  ...  wind-vwnd-925-2010-11  \\\n",
              "0                         29.71  ...                 -27.68   \n",
              "1                         29.71  ...                 -21.13   \n",
              "2                         29.71  ...                 -10.72   \n",
              "3                         29.71  ...                   0.33   \n",
              "4                         29.71  ...                   9.83   \n",
              "...                         ...  ...                    ...   \n",
              "375729                    18.35  ...                 -15.64   \n",
              "375730                    18.35  ...                  -7.59   \n",
              "375731                    18.35  ...                  -6.25   \n",
              "375732                    18.35  ...                  -7.16   \n",
              "375733                    18.35  ...                 -12.36   \n",
              "\n",
              "        wind-vwnd-925-2010-12  wind-vwnd-925-2010-13  wind-vwnd-925-2010-14  \\\n",
              "0                      -37.21                   8.32                   9.56   \n",
              "1                      -36.57                   8.77                  21.17   \n",
              "2                      -34.16                   6.99                  32.16   \n",
              "3                      -31.04                   6.17                  39.66   \n",
              "4                      -31.80                   7.47                  38.62   \n",
              "...                       ...                    ...                    ...   \n",
              "375729                 -75.68                  -3.09                   6.93   \n",
              "375730                 -76.42                 -13.55                  13.36   \n",
              "375731                 -70.65                 -23.93                  22.62   \n",
              "375732                 -57.67                 -33.55                  32.06   \n",
              "375733                 -44.67                 -32.46                  36.25   \n",
              "\n",
              "        wind-vwnd-925-2010-15  wind-vwnd-925-2010-16  wind-vwnd-925-2010-17  \\\n",
              "0                       -2.03                  48.13                  28.09   \n",
              "1                        4.44                  48.60                  27.41   \n",
              "2                        5.01                  48.53                  19.21   \n",
              "3                       -1.41                  50.59                   8.29   \n",
              "4                       -5.21                  54.73                  -2.58   \n",
              "...                       ...                    ...                    ...   \n",
              "375729                 -16.69                  16.98                 -13.85   \n",
              "375730                 -15.96                  20.45                 -16.36   \n",
              "375731                 -16.71                  20.28                 -15.48   \n",
              "375732                 -16.07                  16.60                 -20.61   \n",
              "375733                 -12.72                  15.98                 -22.56   \n",
              "\n",
              "        wind-vwnd-925-2010-18  wind-vwnd-925-2010-19  wind-vwnd-925-2010-20  \n",
              "0                      -13.50                  11.90                   4.58  \n",
              "1                      -23.77                  15.44                   3.42  \n",
              "2                      -33.16                  15.11                   4.82  \n",
              "3                      -37.22                  18.24                   9.74  \n",
              "4                      -42.30                  21.91                  10.95  \n",
              "...                       ...                    ...                    ...  \n",
              "375729                  50.25                 -31.33                   0.77  \n",
              "375730                  51.65                 -30.73                  10.10  \n",
              "375731                  48.58                 -18.74                   9.28  \n",
              "375732                  39.23                 -16.26                  -0.22  \n",
              "375733                  32.53                 -21.89                  -1.20  \n",
              "\n",
              "[352604 rows x 246 columns]"
            ]
          },
          "execution_count": 5,
          "metadata": {},
          "output_type": "execute_result"
        }
      ],
      "source": [
        "#Drop missing values\n",
        "\n",
        "trainData = trainData.dropna()\n",
        "trainData.reset_index()\n",
        "trainData"
      ]
    },
    {
      "cell_type": "code",
      "execution_count": 6,
      "metadata": {
        "colab": {
          "base_uri": "https://localhost:8080/",
          "height": 419
        },
        "id": "Wm9P3-VDGQIQ",
        "outputId": "1507bc64-82e5-400f-8e65-c1a56d8764d7"
      },
      "outputs": [
        {
          "data": {
            "text/html": [
              "<div>\n",
              "<style scoped>\n",
              "    .dataframe tbody tr th:only-of-type {\n",
              "        vertical-align: middle;\n",
              "    }\n",
              "\n",
              "    .dataframe tbody tr th {\n",
              "        vertical-align: top;\n",
              "    }\n",
              "\n",
              "    .dataframe thead th {\n",
              "        text-align: right;\n",
              "    }\n",
              "</style>\n",
              "<table border=\"1\" class=\"dataframe\">\n",
              "  <thead>\n",
              "    <tr style=\"text-align: right;\">\n",
              "      <th></th>\n",
              "      <th>0</th>\n",
              "    </tr>\n",
              "  </thead>\n",
              "  <tbody>\n",
              "    <tr>\n",
              "      <th>index</th>\n",
              "      <td>int64</td>\n",
              "    </tr>\n",
              "    <tr>\n",
              "      <th>lat</th>\n",
              "      <td>float64</td>\n",
              "    </tr>\n",
              "    <tr>\n",
              "      <th>lon</th>\n",
              "      <td>float64</td>\n",
              "    </tr>\n",
              "    <tr>\n",
              "      <th>startdate</th>\n",
              "      <td>object</td>\n",
              "    </tr>\n",
              "    <tr>\n",
              "      <th>contest-pevpr-sfc-gauss-14d__pevpr</th>\n",
              "      <td>float64</td>\n",
              "    </tr>\n",
              "    <tr>\n",
              "      <th>...</th>\n",
              "      <td>...</td>\n",
              "    </tr>\n",
              "    <tr>\n",
              "      <th>wind-vwnd-925-2010-16</th>\n",
              "      <td>float64</td>\n",
              "    </tr>\n",
              "    <tr>\n",
              "      <th>wind-vwnd-925-2010-17</th>\n",
              "      <td>float64</td>\n",
              "    </tr>\n",
              "    <tr>\n",
              "      <th>wind-vwnd-925-2010-18</th>\n",
              "      <td>float64</td>\n",
              "    </tr>\n",
              "    <tr>\n",
              "      <th>wind-vwnd-925-2010-19</th>\n",
              "      <td>float64</td>\n",
              "    </tr>\n",
              "    <tr>\n",
              "      <th>wind-vwnd-925-2010-20</th>\n",
              "      <td>float64</td>\n",
              "    </tr>\n",
              "  </tbody>\n",
              "</table>\n",
              "<p>246 rows × 1 columns</p>\n",
              "</div>"
            ],
            "text/plain": [
              "                                          0\n",
              "index                                 int64\n",
              "lat                                 float64\n",
              "lon                                 float64\n",
              "startdate                            object\n",
              "contest-pevpr-sfc-gauss-14d__pevpr  float64\n",
              "...                                     ...\n",
              "wind-vwnd-925-2010-16               float64\n",
              "wind-vwnd-925-2010-17               float64\n",
              "wind-vwnd-925-2010-18               float64\n",
              "wind-vwnd-925-2010-19               float64\n",
              "wind-vwnd-925-2010-20               float64\n",
              "\n",
              "[246 rows x 1 columns]"
            ]
          },
          "execution_count": 6,
          "metadata": {},
          "output_type": "execute_result"
        }
      ],
      "source": [
        "#Find which variables are strings/continuous (objects)\n",
        "\n",
        "typesDF = pd.DataFrame(trainData.dtypes)\n",
        "\n",
        "typesDF\n"
      ]
    },
    {
      "cell_type": "code",
      "execution_count": 7,
      "metadata": {
        "id": "vyHZWRfHA7Rm"
      },
      "outputs": [],
      "source": [
        "#Create list of predictor variables\n",
        "preds = list(trainData)\n",
        "\n",
        "preds.remove('index')\n",
        "preds.remove('lat')\n",
        "preds.remove('startdate')\n",
        "preds.remove('climateregions__climateregion')\n",
        "preds.remove('mjo1d__phase')\n",
        "preds.remove('mei__meirank')\n",
        "preds.remove('mei__nip')\n",
        "preds.remove('contest-tmp2m-14d__tmp2m')\n",
        "\n",
        "X = trainData[preds]\n",
        "y = trainData['contest-tmp2m-14d__tmp2m']\n"
      ]
    },
    {
      "cell_type": "markdown",
      "metadata": {
        "id": "MMSX-nhGQSrX"
      },
      "source": [
        "## **LINEAR REGRESSION**"
      ]
    },
    {
      "cell_type": "code",
      "execution_count": 6,
      "metadata": {
        "id": "c31taIpEJfJJ"
      },
      "outputs": [],
      "source": [
        "#Simple linear \n",
        "\n",
        "#Train test split\n",
        "X_train, X_val, y_train, y_val = train_test_split(X, y, test_size = 0.2,\n",
        "                                                  random_state = 5)"
      ]
    },
    {
      "cell_type": "code",
      "execution_count": 7,
      "metadata": {
        "id": "fi_dSfYZSmVn"
      },
      "outputs": [],
      "source": [
        "#Standardize/Z score\n",
        "\n",
        "# z = StandardScaler()\n",
        "# X_train[preds] = z.fit_transform(X_train[preds])\n",
        "# X_val[preds] = z.transform(X_val[preds])"
      ]
    },
    {
      "cell_type": "code",
      "execution_count": 8,
      "metadata": {
        "colab": {
          "base_uri": "https://localhost:8080/"
        },
        "id": "9KAfQPflQasm",
        "outputId": "0ad3b7e2-b4b3-4b71-c555-2ee0ad3c72fc"
      },
      "outputs": [
        {
          "data": {
            "text/html": [
              "<style>#sk-container-id-1 {color: black;background-color: white;}#sk-container-id-1 pre{padding: 0;}#sk-container-id-1 div.sk-toggleable {background-color: white;}#sk-container-id-1 label.sk-toggleable__label {cursor: pointer;display: block;width: 100%;margin-bottom: 0;padding: 0.3em;box-sizing: border-box;text-align: center;}#sk-container-id-1 label.sk-toggleable__label-arrow:before {content: \"▸\";float: left;margin-right: 0.25em;color: #696969;}#sk-container-id-1 label.sk-toggleable__label-arrow:hover:before {color: black;}#sk-container-id-1 div.sk-estimator:hover label.sk-toggleable__label-arrow:before {color: black;}#sk-container-id-1 div.sk-toggleable__content {max-height: 0;max-width: 0;overflow: hidden;text-align: left;background-color: #f0f8ff;}#sk-container-id-1 div.sk-toggleable__content pre {margin: 0.2em;color: black;border-radius: 0.25em;background-color: #f0f8ff;}#sk-container-id-1 input.sk-toggleable__control:checked~div.sk-toggleable__content {max-height: 200px;max-width: 100%;overflow: auto;}#sk-container-id-1 input.sk-toggleable__control:checked~label.sk-toggleable__label-arrow:before {content: \"▾\";}#sk-container-id-1 div.sk-estimator input.sk-toggleable__control:checked~label.sk-toggleable__label {background-color: #d4ebff;}#sk-container-id-1 div.sk-label input.sk-toggleable__control:checked~label.sk-toggleable__label {background-color: #d4ebff;}#sk-container-id-1 input.sk-hidden--visually {border: 0;clip: rect(1px 1px 1px 1px);clip: rect(1px, 1px, 1px, 1px);height: 1px;margin: -1px;overflow: hidden;padding: 0;position: absolute;width: 1px;}#sk-container-id-1 div.sk-estimator {font-family: monospace;background-color: #f0f8ff;border: 1px dotted black;border-radius: 0.25em;box-sizing: border-box;margin-bottom: 0.5em;}#sk-container-id-1 div.sk-estimator:hover {background-color: #d4ebff;}#sk-container-id-1 div.sk-parallel-item::after {content: \"\";width: 100%;border-bottom: 1px solid gray;flex-grow: 1;}#sk-container-id-1 div.sk-label:hover label.sk-toggleable__label {background-color: #d4ebff;}#sk-container-id-1 div.sk-serial::before {content: \"\";position: absolute;border-left: 1px solid gray;box-sizing: border-box;top: 0;bottom: 0;left: 50%;z-index: 0;}#sk-container-id-1 div.sk-serial {display: flex;flex-direction: column;align-items: center;background-color: white;padding-right: 0.2em;padding-left: 0.2em;position: relative;}#sk-container-id-1 div.sk-item {position: relative;z-index: 1;}#sk-container-id-1 div.sk-parallel {display: flex;align-items: stretch;justify-content: center;background-color: white;position: relative;}#sk-container-id-1 div.sk-item::before, #sk-container-id-1 div.sk-parallel-item::before {content: \"\";position: absolute;border-left: 1px solid gray;box-sizing: border-box;top: 0;bottom: 0;left: 50%;z-index: -1;}#sk-container-id-1 div.sk-parallel-item {display: flex;flex-direction: column;z-index: 1;position: relative;background-color: white;}#sk-container-id-1 div.sk-parallel-item:first-child::after {align-self: flex-end;width: 50%;}#sk-container-id-1 div.sk-parallel-item:last-child::after {align-self: flex-start;width: 50%;}#sk-container-id-1 div.sk-parallel-item:only-child::after {width: 0;}#sk-container-id-1 div.sk-dashed-wrapped {border: 1px dashed gray;margin: 0 0.4em 0.5em 0.4em;box-sizing: border-box;padding-bottom: 0.4em;background-color: white;}#sk-container-id-1 div.sk-label label {font-family: monospace;font-weight: bold;display: inline-block;line-height: 1.2em;}#sk-container-id-1 div.sk-label-container {text-align: center;}#sk-container-id-1 div.sk-container {/* jupyter's `normalize.less` sets `[hidden] { display: none; }` but bootstrap.min.css set `[hidden] { display: none !important; }` so we also need the `!important` here to be able to override the default hidden behavior on the sphinx rendered scikit-learn.org. See: https://github.com/scikit-learn/scikit-learn/issues/21755 */display: inline-block !important;position: relative;}#sk-container-id-1 div.sk-text-repr-fallback {display: none;}</style><div id=\"sk-container-id-1\" class=\"sk-top-container\"><div class=\"sk-text-repr-fallback\"><pre>LinearRegression()</pre><b>In a Jupyter environment, please rerun this cell to show the HTML representation or trust the notebook. <br />On GitHub, the HTML representation is unable to render, please try loading this page with nbviewer.org.</b></div><div class=\"sk-container\" hidden><div class=\"sk-item\"><div class=\"sk-estimator sk-toggleable\"><input class=\"sk-toggleable__control sk-hidden--visually\" id=\"sk-estimator-id-1\" type=\"checkbox\" checked><label for=\"sk-estimator-id-1\" class=\"sk-toggleable__label sk-toggleable__label-arrow\">LinearRegression</label><div class=\"sk-toggleable__content\"><pre>LinearRegression()</pre></div></div></div></div></div>"
            ],
            "text/plain": [
              "LinearRegression()"
            ]
          },
          "execution_count": 8,
          "metadata": {},
          "output_type": "execute_result"
        }
      ],
      "source": [
        "#Create and fit model\n",
        "lr = LinearRegression()\n",
        "lr.fit(X_train, y_train)"
      ]
    },
    {
      "cell_type": "code",
      "execution_count": 18,
      "metadata": {
        "colab": {
          "base_uri": "https://localhost:8080/",
          "height": 198
        },
        "id": "V-H45JAm_85U",
        "outputId": "c3458c7f-30d8-4bae-d1db-3ff8cbcbc7cf"
      },
      "outputs": [],
      "source": [
        "#Predictions\n",
        "\n",
        "y_pred = lr.predict(X_val)"
      ]
    },
    {
      "cell_type": "code",
      "execution_count": 19,
      "metadata": {
        "colab": {
          "base_uri": "https://localhost:8080/"
        },
        "id": "WbFiuP04AKNr",
        "outputId": "c3443f0e-1035-42fc-e3ff-483acef4d7d5"
      },
      "outputs": [
        {
          "name": "stdout",
          "output_type": "stream",
          "text": [
            "Train MSE:  1.756318935628493\n",
            "Test MSE:  1.7494598023768528\n"
          ]
        }
      ],
      "source": [
        "#Training MSE\n",
        "print('Train MSE: ', mean_squared_error(y_train, lr.predict(X_train)))\n",
        "\n",
        "#Testing MSE\n",
        "print('Test MSE: ', mean_squared_error(y_val, y_pred))"
      ]
    },
    {
      "cell_type": "code",
      "execution_count": 20,
      "metadata": {
        "colab": {
          "base_uri": "https://localhost:8080/"
        },
        "id": "IE7zWntbAjhQ",
        "outputId": "9f4a2af0-8165-43c2-abfd-f4aefaf0b682"
      },
      "outputs": [
        {
          "name": "stdout",
          "output_type": "stream",
          "text": [
            "Train R2:  0.9822431134914706\n",
            "Test R2:  0.9823112515571618\n"
          ]
        }
      ],
      "source": [
        "#Training R2\n",
        "print('Train R2: ', lr.score(X_train, y_train))\n",
        "\n",
        "#Testing R2\n",
        "print('Test R2: ', lr.score(X_val, y_val))"
      ]
    },
    {
      "cell_type": "code",
      "execution_count": null,
      "metadata": {
        "colab": {
          "base_uri": "https://localhost:8080/"
        },
        "id": "vDz1sJVOME3R",
        "outputId": "cf6e53e8-03bb-4cbe-9db9-8c8c43754940"
      },
      "outputs": [
        {
          "data": {
            "text/plain": [
              "0        375734\n",
              "1        375735\n",
              "2        375736\n",
              "3        375737\n",
              "4        375738\n",
              "          ...  \n",
              "31349    407083\n",
              "31350    407084\n",
              "31351    407085\n",
              "31352    407086\n",
              "31353    407087\n",
              "Name: index, Length: 31354, dtype: int64"
            ]
          },
          "execution_count": 27,
          "metadata": {},
          "output_type": "execute_result"
        }
      ],
      "source": [
        "testData['index']"
      ]
    },
    {
      "cell_type": "code",
      "execution_count": null,
      "metadata": {
        "id": "iGlDSFSgKqto"
      },
      "outputs": [],
      "source": [
        "#Predict on the test data\n",
        "\n",
        "finalPreds = lr.predict(testData[preds])"
      ]
    },
    {
      "cell_type": "code",
      "execution_count": null,
      "metadata": {
        "colab": {
          "base_uri": "https://localhost:8080/",
          "height": 419
        },
        "id": "K9WTIgNLLpah",
        "outputId": "89f27094-8c7a-49eb-9f9c-e51d0f7f6fc9"
      },
      "outputs": [
        {
          "data": {
            "text/html": [
              "\n",
              "  <div id=\"df-c44ab8ad-48e6-4b49-91c0-cd83e47713e6\">\n",
              "    <div class=\"colab-df-container\">\n",
              "      <div>\n",
              "<style scoped>\n",
              "    .dataframe tbody tr th:only-of-type {\n",
              "        vertical-align: middle;\n",
              "    }\n",
              "\n",
              "    .dataframe tbody tr th {\n",
              "        vertical-align: top;\n",
              "    }\n",
              "\n",
              "    .dataframe thead th {\n",
              "        text-align: right;\n",
              "    }\n",
              "</style>\n",
              "<table border=\"1\" class=\"dataframe\">\n",
              "  <thead>\n",
              "    <tr style=\"text-align: right;\">\n",
              "      <th></th>\n",
              "      <th>contest-tmp2m-14d__tmp2m</th>\n",
              "      <th>index</th>\n",
              "    </tr>\n",
              "  </thead>\n",
              "  <tbody>\n",
              "    <tr>\n",
              "      <th>0</th>\n",
              "      <td>27.727076</td>\n",
              "      <td>375734</td>\n",
              "    </tr>\n",
              "    <tr>\n",
              "      <th>1</th>\n",
              "      <td>27.635880</td>\n",
              "      <td>375735</td>\n",
              "    </tr>\n",
              "    <tr>\n",
              "      <th>2</th>\n",
              "      <td>27.390594</td>\n",
              "      <td>375736</td>\n",
              "    </tr>\n",
              "    <tr>\n",
              "      <th>3</th>\n",
              "      <td>27.265669</td>\n",
              "      <td>375737</td>\n",
              "    </tr>\n",
              "    <tr>\n",
              "      <th>4</th>\n",
              "      <td>27.212049</td>\n",
              "      <td>375738</td>\n",
              "    </tr>\n",
              "    <tr>\n",
              "      <th>...</th>\n",
              "      <td>...</td>\n",
              "      <td>...</td>\n",
              "    </tr>\n",
              "    <tr>\n",
              "      <th>31349</th>\n",
              "      <td>6.334028</td>\n",
              "      <td>407083</td>\n",
              "    </tr>\n",
              "    <tr>\n",
              "      <th>31350</th>\n",
              "      <td>6.304296</td>\n",
              "      <td>407084</td>\n",
              "    </tr>\n",
              "    <tr>\n",
              "      <th>31351</th>\n",
              "      <td>5.244093</td>\n",
              "      <td>407085</td>\n",
              "    </tr>\n",
              "    <tr>\n",
              "      <th>31352</th>\n",
              "      <td>5.685833</td>\n",
              "      <td>407086</td>\n",
              "    </tr>\n",
              "    <tr>\n",
              "      <th>31353</th>\n",
              "      <td>6.245522</td>\n",
              "      <td>407087</td>\n",
              "    </tr>\n",
              "  </tbody>\n",
              "</table>\n",
              "<p>31354 rows × 2 columns</p>\n",
              "</div>\n",
              "      <button class=\"colab-df-convert\" onclick=\"convertToInteractive('df-c44ab8ad-48e6-4b49-91c0-cd83e47713e6')\"\n",
              "              title=\"Convert this dataframe to an interactive table.\"\n",
              "              style=\"display:none;\">\n",
              "        \n",
              "  <svg xmlns=\"http://www.w3.org/2000/svg\" height=\"24px\"viewBox=\"0 0 24 24\"\n",
              "       width=\"24px\">\n",
              "    <path d=\"M0 0h24v24H0V0z\" fill=\"none\"/>\n",
              "    <path d=\"M18.56 5.44l.94 2.06.94-2.06 2.06-.94-2.06-.94-.94-2.06-.94 2.06-2.06.94zm-11 1L8.5 8.5l.94-2.06 2.06-.94-2.06-.94L8.5 2.5l-.94 2.06-2.06.94zm10 10l.94 2.06.94-2.06 2.06-.94-2.06-.94-.94-2.06-.94 2.06-2.06.94z\"/><path d=\"M17.41 7.96l-1.37-1.37c-.4-.4-.92-.59-1.43-.59-.52 0-1.04.2-1.43.59L10.3 9.45l-7.72 7.72c-.78.78-.78 2.05 0 2.83L4 21.41c.39.39.9.59 1.41.59.51 0 1.02-.2 1.41-.59l7.78-7.78 2.81-2.81c.8-.78.8-2.07 0-2.86zM5.41 20L4 18.59l7.72-7.72 1.47 1.35L5.41 20z\"/>\n",
              "  </svg>\n",
              "      </button>\n",
              "      \n",
              "  <style>\n",
              "    .colab-df-container {\n",
              "      display:flex;\n",
              "      flex-wrap:wrap;\n",
              "      gap: 12px;\n",
              "    }\n",
              "\n",
              "    .colab-df-convert {\n",
              "      background-color: #E8F0FE;\n",
              "      border: none;\n",
              "      border-radius: 50%;\n",
              "      cursor: pointer;\n",
              "      display: none;\n",
              "      fill: #1967D2;\n",
              "      height: 32px;\n",
              "      padding: 0 0 0 0;\n",
              "      width: 32px;\n",
              "    }\n",
              "\n",
              "    .colab-df-convert:hover {\n",
              "      background-color: #E2EBFA;\n",
              "      box-shadow: 0px 1px 2px rgba(60, 64, 67, 0.3), 0px 1px 3px 1px rgba(60, 64, 67, 0.15);\n",
              "      fill: #174EA6;\n",
              "    }\n",
              "\n",
              "    [theme=dark] .colab-df-convert {\n",
              "      background-color: #3B4455;\n",
              "      fill: #D2E3FC;\n",
              "    }\n",
              "\n",
              "    [theme=dark] .colab-df-convert:hover {\n",
              "      background-color: #434B5C;\n",
              "      box-shadow: 0px 1px 3px 1px rgba(0, 0, 0, 0.15);\n",
              "      filter: drop-shadow(0px 1px 2px rgba(0, 0, 0, 0.3));\n",
              "      fill: #FFFFFF;\n",
              "    }\n",
              "  </style>\n",
              "\n",
              "      <script>\n",
              "        const buttonEl =\n",
              "          document.querySelector('#df-c44ab8ad-48e6-4b49-91c0-cd83e47713e6 button.colab-df-convert');\n",
              "        buttonEl.style.display =\n",
              "          google.colab.kernel.accessAllowed ? 'block' : 'none';\n",
              "\n",
              "        async function convertToInteractive(key) {\n",
              "          const element = document.querySelector('#df-c44ab8ad-48e6-4b49-91c0-cd83e47713e6');\n",
              "          const dataTable =\n",
              "            await google.colab.kernel.invokeFunction('convertToInteractive',\n",
              "                                                     [key], {});\n",
              "          if (!dataTable) return;\n",
              "\n",
              "          const docLinkHtml = 'Like what you see? Visit the ' +\n",
              "            '<a target=\"_blank\" href=https://colab.research.google.com/notebooks/data_table.ipynb>data table notebook</a>'\n",
              "            + ' to learn more about interactive tables.';\n",
              "          element.innerHTML = '';\n",
              "          dataTable['output_type'] = 'display_data';\n",
              "          await google.colab.output.renderOutput(dataTable, element);\n",
              "          const docLink = document.createElement('div');\n",
              "          docLink.innerHTML = docLinkHtml;\n",
              "          element.appendChild(docLink);\n",
              "        }\n",
              "      </script>\n",
              "    </div>\n",
              "  </div>\n",
              "  "
            ],
            "text/plain": [
              "       contest-tmp2m-14d__tmp2m   index\n",
              "0                     27.727076  375734\n",
              "1                     27.635880  375735\n",
              "2                     27.390594  375736\n",
              "3                     27.265669  375737\n",
              "4                     27.212049  375738\n",
              "...                         ...     ...\n",
              "31349                  6.334028  407083\n",
              "31350                  6.304296  407084\n",
              "31351                  5.244093  407085\n",
              "31352                  5.685833  407086\n",
              "31353                  6.245522  407087\n",
              "\n",
              "[31354 rows x 2 columns]"
            ]
          },
          "execution_count": 29,
          "metadata": {},
          "output_type": "execute_result"
        }
      ],
      "source": [
        "#Create dataframe to store the results\n",
        "results = pd.DataFrame(finalPreds, columns = ['contest-tmp2m-14d__tmp2m'])\n",
        "\n",
        "results['index'] = testData['index']\n",
        "\n",
        "results"
      ]
    },
    {
      "cell_type": "code",
      "execution_count": null,
      "metadata": {
        "id": "n9kIVkcRLscO"
      },
      "outputs": [],
      "source": [
        "results.to_csv('solution.csv', index = False)"
      ]
    },
    {
      "cell_type": "markdown",
      "metadata": {
        "id": "3c1ostcBAyju"
      },
      "source": [
        "## **XGBOOST**"
      ]
    },
    {
      "cell_type": "code",
      "execution_count": 8,
      "metadata": {
        "id": "bDiIzQg0WeAQ"
      },
      "outputs": [],
      "source": [
        "# import packages for hyperparameters tuning\n",
        "from hyperopt import STATUS_OK, Trials, fmin, hp, tpe"
      ]
    },
    {
      "cell_type": "code",
      "execution_count": 9,
      "metadata": {
        "id": "cFo2IIIWUnmn"
      },
      "outputs": [],
      "source": [
        "from xgboost.sklearn import XGBRegressor\n",
        "#XGBoost hyperparameter tuning\n",
        "\n",
        "#Split the data into seperate training and test sets\n",
        "X_train, X_test, y_train, y_test = train_test_split(X, y, test_size = 0.3,\n",
        "                                                  random_state = 5)"
      ]
    },
    {
      "cell_type": "code",
      "execution_count": 10,
      "metadata": {
        "id": "QSofB6eaTwIM"
      },
      "outputs": [
        {
          "name": "stdout",
          "output_type": "stream",
          "text": [
            "  0%|          | 0/50 [00:12<?, ?trial/s, best loss=?]\n"
          ]
        },
        {
          "ename": "KeyboardInterrupt",
          "evalue": "",
          "output_type": "error",
          "traceback": [
            "\u001b[0;31m---------------------------------------------------------------------------\u001b[0m",
            "\u001b[0;31mKeyboardInterrupt\u001b[0m                         Traceback (most recent call last)",
            "Cell \u001b[0;32mIn[10], line 36\u001b[0m\n\u001b[1;32m     33\u001b[0m trials \u001b[38;5;241m=\u001b[39m Trials()\n\u001b[1;32m     35\u001b[0m \u001b[38;5;66;03m#Optimize \u001b[39;00m\n\u001b[0;32m---> 36\u001b[0m best_hyperparams \u001b[38;5;241m=\u001b[39m \u001b[43mfmin\u001b[49m\u001b[43m(\u001b[49m\u001b[43mfn\u001b[49m\u001b[43m \u001b[49m\u001b[38;5;241;43m=\u001b[39;49m\u001b[43m \u001b[49m\u001b[43mobjective\u001b[49m\u001b[43m,\u001b[49m\n\u001b[1;32m     37\u001b[0m \u001b[43m                        \u001b[49m\u001b[43mspace\u001b[49m\u001b[43m \u001b[49m\u001b[38;5;241;43m=\u001b[39;49m\u001b[43m \u001b[49m\u001b[43mspace\u001b[49m\u001b[43m,\u001b[49m\n\u001b[1;32m     38\u001b[0m \u001b[43m                        \u001b[49m\u001b[43malgo\u001b[49m\u001b[43m \u001b[49m\u001b[38;5;241;43m=\u001b[39;49m\u001b[43m \u001b[49m\u001b[43mtpe\u001b[49m\u001b[38;5;241;43m.\u001b[39;49m\u001b[43msuggest\u001b[49m\u001b[43m,\u001b[49m\n\u001b[1;32m     39\u001b[0m \u001b[43m                        \u001b[49m\u001b[43mmax_evals\u001b[49m\u001b[43m \u001b[49m\u001b[38;5;241;43m=\u001b[39;49m\u001b[43m \u001b[49m\u001b[38;5;241;43m50\u001b[39;49m\u001b[43m,\u001b[49m\n\u001b[1;32m     40\u001b[0m \u001b[43m                        \u001b[49m\u001b[43mtrials\u001b[49m\u001b[43m \u001b[49m\u001b[38;5;241;43m=\u001b[39;49m\u001b[43m \u001b[49m\u001b[43mtrials\u001b[49m\u001b[43m)\u001b[49m\n\u001b[1;32m     42\u001b[0m \u001b[38;5;28mprint\u001b[39m(\u001b[38;5;124m\"\u001b[39m\u001b[38;5;124mThe best hyperparameters are : \u001b[39m\u001b[38;5;124m\"\u001b[39m , \u001b[38;5;124m\"\u001b[39m\u001b[38;5;130;01m\\n\u001b[39;00m\u001b[38;5;124m\"\u001b[39m)\n\u001b[1;32m     43\u001b[0m \u001b[38;5;28mprint\u001b[39m(best_hyperparams)\n",
            "File \u001b[0;32m/Library/Frameworks/Python.framework/Versions/3.9/lib/python3.9/site-packages/hyperopt/fmin.py:540\u001b[0m, in \u001b[0;36mfmin\u001b[0;34m(fn, space, algo, max_evals, timeout, loss_threshold, trials, rstate, allow_trials_fmin, pass_expr_memo_ctrl, catch_eval_exceptions, verbose, return_argmin, points_to_evaluate, max_queue_len, show_progressbar, early_stop_fn, trials_save_file)\u001b[0m\n\u001b[1;32m    537\u001b[0m     fn \u001b[39m=\u001b[39m __objective_fmin_wrapper(fn)\n\u001b[1;32m    539\u001b[0m \u001b[39mif\u001b[39;00m allow_trials_fmin \u001b[39mand\u001b[39;00m \u001b[39mhasattr\u001b[39m(trials, \u001b[39m\"\u001b[39m\u001b[39mfmin\u001b[39m\u001b[39m\"\u001b[39m):\n\u001b[0;32m--> 540\u001b[0m     \u001b[39mreturn\u001b[39;00m trials\u001b[39m.\u001b[39;49mfmin(\n\u001b[1;32m    541\u001b[0m         fn,\n\u001b[1;32m    542\u001b[0m         space,\n\u001b[1;32m    543\u001b[0m         algo\u001b[39m=\u001b[39;49malgo,\n\u001b[1;32m    544\u001b[0m         max_evals\u001b[39m=\u001b[39;49mmax_evals,\n\u001b[1;32m    545\u001b[0m         timeout\u001b[39m=\u001b[39;49mtimeout,\n\u001b[1;32m    546\u001b[0m         loss_threshold\u001b[39m=\u001b[39;49mloss_threshold,\n\u001b[1;32m    547\u001b[0m         max_queue_len\u001b[39m=\u001b[39;49mmax_queue_len,\n\u001b[1;32m    548\u001b[0m         rstate\u001b[39m=\u001b[39;49mrstate,\n\u001b[1;32m    549\u001b[0m         pass_expr_memo_ctrl\u001b[39m=\u001b[39;49mpass_expr_memo_ctrl,\n\u001b[1;32m    550\u001b[0m         verbose\u001b[39m=\u001b[39;49mverbose,\n\u001b[1;32m    551\u001b[0m         catch_eval_exceptions\u001b[39m=\u001b[39;49mcatch_eval_exceptions,\n\u001b[1;32m    552\u001b[0m         return_argmin\u001b[39m=\u001b[39;49mreturn_argmin,\n\u001b[1;32m    553\u001b[0m         show_progressbar\u001b[39m=\u001b[39;49mshow_progressbar,\n\u001b[1;32m    554\u001b[0m         early_stop_fn\u001b[39m=\u001b[39;49mearly_stop_fn,\n\u001b[1;32m    555\u001b[0m         trials_save_file\u001b[39m=\u001b[39;49mtrials_save_file,\n\u001b[1;32m    556\u001b[0m     )\n\u001b[1;32m    558\u001b[0m \u001b[39mif\u001b[39;00m trials \u001b[39mis\u001b[39;00m \u001b[39mNone\u001b[39;00m:\n\u001b[1;32m    559\u001b[0m     \u001b[39mif\u001b[39;00m os\u001b[39m.\u001b[39mpath\u001b[39m.\u001b[39mexists(trials_save_file):\n",
            "File \u001b[0;32m/Library/Frameworks/Python.framework/Versions/3.9/lib/python3.9/site-packages/hyperopt/base.py:671\u001b[0m, in \u001b[0;36mTrials.fmin\u001b[0;34m(self, fn, space, algo, max_evals, timeout, loss_threshold, max_queue_len, rstate, verbose, pass_expr_memo_ctrl, catch_eval_exceptions, return_argmin, show_progressbar, early_stop_fn, trials_save_file)\u001b[0m\n\u001b[1;32m    666\u001b[0m \u001b[39m# -- Stop-gap implementation!\u001b[39;00m\n\u001b[1;32m    667\u001b[0m \u001b[39m#    fmin should have been a Trials method in the first place\u001b[39;00m\n\u001b[1;32m    668\u001b[0m \u001b[39m#    but for now it's still sitting in another file.\u001b[39;00m\n\u001b[1;32m    669\u001b[0m \u001b[39mfrom\u001b[39;00m \u001b[39m.\u001b[39;00m\u001b[39mfmin\u001b[39;00m \u001b[39mimport\u001b[39;00m fmin\n\u001b[0;32m--> 671\u001b[0m \u001b[39mreturn\u001b[39;00m fmin(\n\u001b[1;32m    672\u001b[0m     fn,\n\u001b[1;32m    673\u001b[0m     space,\n\u001b[1;32m    674\u001b[0m     algo\u001b[39m=\u001b[39;49malgo,\n\u001b[1;32m    675\u001b[0m     max_evals\u001b[39m=\u001b[39;49mmax_evals,\n\u001b[1;32m    676\u001b[0m     timeout\u001b[39m=\u001b[39;49mtimeout,\n\u001b[1;32m    677\u001b[0m     loss_threshold\u001b[39m=\u001b[39;49mloss_threshold,\n\u001b[1;32m    678\u001b[0m     trials\u001b[39m=\u001b[39;49m\u001b[39mself\u001b[39;49m,\n\u001b[1;32m    679\u001b[0m     rstate\u001b[39m=\u001b[39;49mrstate,\n\u001b[1;32m    680\u001b[0m     verbose\u001b[39m=\u001b[39;49mverbose,\n\u001b[1;32m    681\u001b[0m     max_queue_len\u001b[39m=\u001b[39;49mmax_queue_len,\n\u001b[1;32m    682\u001b[0m     allow_trials_fmin\u001b[39m=\u001b[39;49m\u001b[39mFalse\u001b[39;49;00m,  \u001b[39m# -- prevent recursion\u001b[39;49;00m\n\u001b[1;32m    683\u001b[0m     pass_expr_memo_ctrl\u001b[39m=\u001b[39;49mpass_expr_memo_ctrl,\n\u001b[1;32m    684\u001b[0m     catch_eval_exceptions\u001b[39m=\u001b[39;49mcatch_eval_exceptions,\n\u001b[1;32m    685\u001b[0m     return_argmin\u001b[39m=\u001b[39;49mreturn_argmin,\n\u001b[1;32m    686\u001b[0m     show_progressbar\u001b[39m=\u001b[39;49mshow_progressbar,\n\u001b[1;32m    687\u001b[0m     early_stop_fn\u001b[39m=\u001b[39;49mearly_stop_fn,\n\u001b[1;32m    688\u001b[0m     trials_save_file\u001b[39m=\u001b[39;49mtrials_save_file,\n\u001b[1;32m    689\u001b[0m )\n",
            "File \u001b[0;32m/Library/Frameworks/Python.framework/Versions/3.9/lib/python3.9/site-packages/hyperopt/fmin.py:586\u001b[0m, in \u001b[0;36mfmin\u001b[0;34m(fn, space, algo, max_evals, timeout, loss_threshold, trials, rstate, allow_trials_fmin, pass_expr_memo_ctrl, catch_eval_exceptions, verbose, return_argmin, points_to_evaluate, max_queue_len, show_progressbar, early_stop_fn, trials_save_file)\u001b[0m\n\u001b[1;32m    583\u001b[0m rval\u001b[39m.\u001b[39mcatch_eval_exceptions \u001b[39m=\u001b[39m catch_eval_exceptions\n\u001b[1;32m    585\u001b[0m \u001b[39m# next line is where the fmin is actually executed\u001b[39;00m\n\u001b[0;32m--> 586\u001b[0m rval\u001b[39m.\u001b[39;49mexhaust()\n\u001b[1;32m    588\u001b[0m \u001b[39mif\u001b[39;00m return_argmin:\n\u001b[1;32m    589\u001b[0m     \u001b[39mif\u001b[39;00m \u001b[39mlen\u001b[39m(trials\u001b[39m.\u001b[39mtrials) \u001b[39m==\u001b[39m \u001b[39m0\u001b[39m:\n",
            "File \u001b[0;32m/Library/Frameworks/Python.framework/Versions/3.9/lib/python3.9/site-packages/hyperopt/fmin.py:364\u001b[0m, in \u001b[0;36mFMinIter.exhaust\u001b[0;34m(self)\u001b[0m\n\u001b[1;32m    362\u001b[0m \u001b[39mdef\u001b[39;00m \u001b[39mexhaust\u001b[39m(\u001b[39mself\u001b[39m):\n\u001b[1;32m    363\u001b[0m     n_done \u001b[39m=\u001b[39m \u001b[39mlen\u001b[39m(\u001b[39mself\u001b[39m\u001b[39m.\u001b[39mtrials)\n\u001b[0;32m--> 364\u001b[0m     \u001b[39mself\u001b[39;49m\u001b[39m.\u001b[39;49mrun(\u001b[39mself\u001b[39;49m\u001b[39m.\u001b[39;49mmax_evals \u001b[39m-\u001b[39;49m n_done, block_until_done\u001b[39m=\u001b[39;49m\u001b[39mself\u001b[39;49m\u001b[39m.\u001b[39;49masynchronous)\n\u001b[1;32m    365\u001b[0m     \u001b[39mself\u001b[39m\u001b[39m.\u001b[39mtrials\u001b[39m.\u001b[39mrefresh()\n\u001b[1;32m    366\u001b[0m     \u001b[39mreturn\u001b[39;00m \u001b[39mself\u001b[39m\n",
            "File \u001b[0;32m/Library/Frameworks/Python.framework/Versions/3.9/lib/python3.9/site-packages/hyperopt/fmin.py:300\u001b[0m, in \u001b[0;36mFMinIter.run\u001b[0;34m(self, N, block_until_done)\u001b[0m\n\u001b[1;32m    297\u001b[0m     time\u001b[39m.\u001b[39msleep(\u001b[39mself\u001b[39m\u001b[39m.\u001b[39mpoll_interval_secs)\n\u001b[1;32m    298\u001b[0m \u001b[39melse\u001b[39;00m:\n\u001b[1;32m    299\u001b[0m     \u001b[39m# -- loop over trials and do the jobs directly\u001b[39;00m\n\u001b[0;32m--> 300\u001b[0m     \u001b[39mself\u001b[39;49m\u001b[39m.\u001b[39;49mserial_evaluate()\n\u001b[1;32m    302\u001b[0m \u001b[39mself\u001b[39m\u001b[39m.\u001b[39mtrials\u001b[39m.\u001b[39mrefresh()\n\u001b[1;32m    303\u001b[0m \u001b[39mif\u001b[39;00m \u001b[39mself\u001b[39m\u001b[39m.\u001b[39mtrials_save_file \u001b[39m!=\u001b[39m \u001b[39m\"\u001b[39m\u001b[39m\"\u001b[39m:\n",
            "File \u001b[0;32m/Library/Frameworks/Python.framework/Versions/3.9/lib/python3.9/site-packages/hyperopt/fmin.py:178\u001b[0m, in \u001b[0;36mFMinIter.serial_evaluate\u001b[0;34m(self, N)\u001b[0m\n\u001b[1;32m    176\u001b[0m ctrl \u001b[39m=\u001b[39m base\u001b[39m.\u001b[39mCtrl(\u001b[39mself\u001b[39m\u001b[39m.\u001b[39mtrials, current_trial\u001b[39m=\u001b[39mtrial)\n\u001b[1;32m    177\u001b[0m \u001b[39mtry\u001b[39;00m:\n\u001b[0;32m--> 178\u001b[0m     result \u001b[39m=\u001b[39m \u001b[39mself\u001b[39;49m\u001b[39m.\u001b[39;49mdomain\u001b[39m.\u001b[39;49mevaluate(spec, ctrl)\n\u001b[1;32m    179\u001b[0m \u001b[39mexcept\u001b[39;00m \u001b[39mException\u001b[39;00m \u001b[39mas\u001b[39;00m e:\n\u001b[1;32m    180\u001b[0m     logger\u001b[39m.\u001b[39merror(\u001b[39m\"\u001b[39m\u001b[39mjob exception: \u001b[39m\u001b[39m%s\u001b[39;00m\u001b[39m\"\u001b[39m \u001b[39m%\u001b[39m \u001b[39mstr\u001b[39m(e))\n",
            "File \u001b[0;32m/Library/Frameworks/Python.framework/Versions/3.9/lib/python3.9/site-packages/hyperopt/base.py:892\u001b[0m, in \u001b[0;36mDomain.evaluate\u001b[0;34m(self, config, ctrl, attach_attachments)\u001b[0m\n\u001b[1;32m    883\u001b[0m \u001b[39melse\u001b[39;00m:\n\u001b[1;32m    884\u001b[0m     \u001b[39m# -- the \"work\" of evaluating `config` can be written\u001b[39;00m\n\u001b[1;32m    885\u001b[0m     \u001b[39m#    either into the pyll part (self.expr)\u001b[39;00m\n\u001b[1;32m    886\u001b[0m     \u001b[39m#    or the normal Python part (self.fn)\u001b[39;00m\n\u001b[1;32m    887\u001b[0m     pyll_rval \u001b[39m=\u001b[39m pyll\u001b[39m.\u001b[39mrec_eval(\n\u001b[1;32m    888\u001b[0m         \u001b[39mself\u001b[39m\u001b[39m.\u001b[39mexpr,\n\u001b[1;32m    889\u001b[0m         memo\u001b[39m=\u001b[39mmemo,\n\u001b[1;32m    890\u001b[0m         print_node_on_error\u001b[39m=\u001b[39m\u001b[39mself\u001b[39m\u001b[39m.\u001b[39mrec_eval_print_node_on_error,\n\u001b[1;32m    891\u001b[0m     )\n\u001b[0;32m--> 892\u001b[0m     rval \u001b[39m=\u001b[39m \u001b[39mself\u001b[39;49m\u001b[39m.\u001b[39;49mfn(pyll_rval)\n\u001b[1;32m    894\u001b[0m \u001b[39mif\u001b[39;00m \u001b[39misinstance\u001b[39m(rval, (\u001b[39mfloat\u001b[39m, \u001b[39mint\u001b[39m, np\u001b[39m.\u001b[39mnumber)):\n\u001b[1;32m    895\u001b[0m     dict_rval \u001b[39m=\u001b[39m {\u001b[39m\"\u001b[39m\u001b[39mloss\u001b[39m\u001b[39m\"\u001b[39m: \u001b[39mfloat\u001b[39m(rval), \u001b[39m\"\u001b[39m\u001b[39mstatus\u001b[39m\u001b[39m\"\u001b[39m: STATUS_OK}\n",
            "Cell \u001b[0;32mIn[10], line 23\u001b[0m, in \u001b[0;36mobjective\u001b[0;34m(space)\u001b[0m\n\u001b[1;32m     16\u001b[0m clf\u001b[38;5;241m=\u001b[39mxgb\u001b[38;5;241m.\u001b[39mXGBRegressor(\n\u001b[1;32m     17\u001b[0m                 n_estimators \u001b[38;5;241m=\u001b[39mspace[\u001b[38;5;124m'\u001b[39m\u001b[38;5;124mn_estimators\u001b[39m\u001b[38;5;124m'\u001b[39m], max_depth \u001b[38;5;241m=\u001b[39m \u001b[38;5;28mint\u001b[39m(space[\u001b[38;5;124m'\u001b[39m\u001b[38;5;124mmax_depth\u001b[39m\u001b[38;5;124m'\u001b[39m]), gamma \u001b[38;5;241m=\u001b[39m space[\u001b[38;5;124m'\u001b[39m\u001b[38;5;124mgamma\u001b[39m\u001b[38;5;124m'\u001b[39m],\n\u001b[1;32m     18\u001b[0m                 reg_alpha \u001b[38;5;241m=\u001b[39m \u001b[38;5;28mint\u001b[39m(space[\u001b[38;5;124m'\u001b[39m\u001b[38;5;124mreg_alpha\u001b[39m\u001b[38;5;124m'\u001b[39m]),min_child_weight\u001b[38;5;241m=\u001b[39m\u001b[38;5;28mint\u001b[39m(space[\u001b[38;5;124m'\u001b[39m\u001b[38;5;124mmin_child_weight\u001b[39m\u001b[38;5;124m'\u001b[39m]),\n\u001b[1;32m     19\u001b[0m                 colsample_bytree\u001b[38;5;241m=\u001b[39m\u001b[38;5;28mint\u001b[39m(space[\u001b[38;5;124m'\u001b[39m\u001b[38;5;124mcolsample_bytree\u001b[39m\u001b[38;5;124m'\u001b[39m]))\n\u001b[1;32m     21\u001b[0m evaluation \u001b[38;5;241m=\u001b[39m [( X_train, y_train), ( X_test, y_test)]\n\u001b[0;32m---> 23\u001b[0m \u001b[43mclf\u001b[49m\u001b[38;5;241;43m.\u001b[39;49m\u001b[43mfit\u001b[49m\u001b[43m(\u001b[49m\u001b[43mX_train\u001b[49m\u001b[43m,\u001b[49m\u001b[43m \u001b[49m\u001b[43my_train\u001b[49m\u001b[43m,\u001b[49m\n\u001b[1;32m     24\u001b[0m \u001b[43m        \u001b[49m\u001b[43meval_set\u001b[49m\u001b[38;5;241;43m=\u001b[39;49m\u001b[43mevaluation\u001b[49m\u001b[43m,\u001b[49m\u001b[43m \u001b[49m\u001b[43meval_metric\u001b[49m\u001b[38;5;241;43m=\u001b[39;49m\u001b[38;5;124;43m\"\u001b[39;49m\u001b[38;5;124;43mrmse\u001b[39;49m\u001b[38;5;124;43m\"\u001b[39;49m\u001b[43m,\u001b[49m\n\u001b[1;32m     25\u001b[0m \u001b[43m        \u001b[49m\u001b[43mearly_stopping_rounds\u001b[49m\u001b[38;5;241;43m=\u001b[39;49m\u001b[38;5;241;43m10\u001b[39;49m\u001b[43m,\u001b[49m\u001b[43mverbose\u001b[49m\u001b[38;5;241;43m=\u001b[39;49m\u001b[38;5;28;43;01mFalse\u001b[39;49;00m\u001b[43m)\u001b[49m\n\u001b[1;32m     28\u001b[0m pred \u001b[38;5;241m=\u001b[39m clf\u001b[38;5;241m.\u001b[39mpredict(X_test)\n\u001b[1;32m     29\u001b[0m accuracy \u001b[38;5;241m=\u001b[39m r2_score(y_test, pred\u001b[38;5;241m>\u001b[39m\u001b[38;5;241m0.5\u001b[39m)\n",
            "File \u001b[0;32m/Library/Frameworks/Python.framework/Versions/3.9/lib/python3.9/site-packages/xgboost/core.py:620\u001b[0m, in \u001b[0;36mrequire_keyword_args.<locals>.throw_if.<locals>.inner_f\u001b[0;34m(*args, **kwargs)\u001b[0m\n\u001b[1;32m    618\u001b[0m \u001b[39mfor\u001b[39;00m k, arg \u001b[39min\u001b[39;00m \u001b[39mzip\u001b[39m(sig\u001b[39m.\u001b[39mparameters, args):\n\u001b[1;32m    619\u001b[0m     kwargs[k] \u001b[39m=\u001b[39m arg\n\u001b[0;32m--> 620\u001b[0m \u001b[39mreturn\u001b[39;00m func(\u001b[39m*\u001b[39;49m\u001b[39m*\u001b[39;49mkwargs)\n",
            "File \u001b[0;32m/Library/Frameworks/Python.framework/Versions/3.9/lib/python3.9/site-packages/xgboost/sklearn.py:1025\u001b[0m, in \u001b[0;36mXGBModel.fit\u001b[0;34m(self, X, y, sample_weight, base_margin, eval_set, eval_metric, early_stopping_rounds, verbose, xgb_model, sample_weight_eval_set, base_margin_eval_set, feature_weights, callbacks)\u001b[0m\n\u001b[1;32m   1014\u001b[0m     obj \u001b[39m=\u001b[39m \u001b[39mNone\u001b[39;00m\n\u001b[1;32m   1016\u001b[0m (\n\u001b[1;32m   1017\u001b[0m     model,\n\u001b[1;32m   1018\u001b[0m     metric,\n\u001b[0;32m   (...)\u001b[0m\n\u001b[1;32m   1023\u001b[0m     xgb_model, eval_metric, params, early_stopping_rounds, callbacks\n\u001b[1;32m   1024\u001b[0m )\n\u001b[0;32m-> 1025\u001b[0m \u001b[39mself\u001b[39m\u001b[39m.\u001b[39m_Booster \u001b[39m=\u001b[39m train(\n\u001b[1;32m   1026\u001b[0m     params,\n\u001b[1;32m   1027\u001b[0m     train_dmatrix,\n\u001b[1;32m   1028\u001b[0m     \u001b[39mself\u001b[39;49m\u001b[39m.\u001b[39;49mget_num_boosting_rounds(),\n\u001b[1;32m   1029\u001b[0m     evals\u001b[39m=\u001b[39;49mevals,\n\u001b[1;32m   1030\u001b[0m     early_stopping_rounds\u001b[39m=\u001b[39;49mearly_stopping_rounds,\n\u001b[1;32m   1031\u001b[0m     evals_result\u001b[39m=\u001b[39;49mevals_result,\n\u001b[1;32m   1032\u001b[0m     obj\u001b[39m=\u001b[39;49mobj,\n\u001b[1;32m   1033\u001b[0m     custom_metric\u001b[39m=\u001b[39;49mmetric,\n\u001b[1;32m   1034\u001b[0m     verbose_eval\u001b[39m=\u001b[39;49mverbose,\n\u001b[1;32m   1035\u001b[0m     xgb_model\u001b[39m=\u001b[39;49mmodel,\n\u001b[1;32m   1036\u001b[0m     callbacks\u001b[39m=\u001b[39;49mcallbacks,\n\u001b[1;32m   1037\u001b[0m )\n\u001b[1;32m   1039\u001b[0m \u001b[39mself\u001b[39m\u001b[39m.\u001b[39m_set_evaluation_result(evals_result)\n\u001b[1;32m   1040\u001b[0m \u001b[39mreturn\u001b[39;00m \u001b[39mself\u001b[39m\n",
            "File \u001b[0;32m/Library/Frameworks/Python.framework/Versions/3.9/lib/python3.9/site-packages/xgboost/core.py:620\u001b[0m, in \u001b[0;36mrequire_keyword_args.<locals>.throw_if.<locals>.inner_f\u001b[0;34m(*args, **kwargs)\u001b[0m\n\u001b[1;32m    618\u001b[0m \u001b[39mfor\u001b[39;00m k, arg \u001b[39min\u001b[39;00m \u001b[39mzip\u001b[39m(sig\u001b[39m.\u001b[39mparameters, args):\n\u001b[1;32m    619\u001b[0m     kwargs[k] \u001b[39m=\u001b[39m arg\n\u001b[0;32m--> 620\u001b[0m \u001b[39mreturn\u001b[39;00m func(\u001b[39m*\u001b[39;49m\u001b[39m*\u001b[39;49mkwargs)\n",
            "File \u001b[0;32m/Library/Frameworks/Python.framework/Versions/3.9/lib/python3.9/site-packages/xgboost/training.py:185\u001b[0m, in \u001b[0;36mtrain\u001b[0;34m(params, dtrain, num_boost_round, evals, obj, feval, maximize, early_stopping_rounds, evals_result, verbose_eval, xgb_model, callbacks, custom_metric)\u001b[0m\n\u001b[1;32m    183\u001b[0m \u001b[39mif\u001b[39;00m cb_container\u001b[39m.\u001b[39mbefore_iteration(bst, i, dtrain, evals):\n\u001b[1;32m    184\u001b[0m     \u001b[39mbreak\u001b[39;00m\n\u001b[0;32m--> 185\u001b[0m bst\u001b[39m.\u001b[39;49mupdate(dtrain, i, obj)\n\u001b[1;32m    186\u001b[0m \u001b[39mif\u001b[39;00m cb_container\u001b[39m.\u001b[39mafter_iteration(bst, i, dtrain, evals):\n\u001b[1;32m    187\u001b[0m     \u001b[39mbreak\u001b[39;00m\n",
            "File \u001b[0;32m/Library/Frameworks/Python.framework/Versions/3.9/lib/python3.9/site-packages/xgboost/core.py:1918\u001b[0m, in \u001b[0;36mBooster.update\u001b[0;34m(self, dtrain, iteration, fobj)\u001b[0m\n\u001b[1;32m   1915\u001b[0m \u001b[39mself\u001b[39m\u001b[39m.\u001b[39m_validate_dmatrix_features(dtrain)\n\u001b[1;32m   1917\u001b[0m \u001b[39mif\u001b[39;00m fobj \u001b[39mis\u001b[39;00m \u001b[39mNone\u001b[39;00m:\n\u001b[0;32m-> 1918\u001b[0m     _check_call(_LIB\u001b[39m.\u001b[39;49mXGBoosterUpdateOneIter(\u001b[39mself\u001b[39;49m\u001b[39m.\u001b[39;49mhandle,\n\u001b[1;32m   1919\u001b[0m                                             ctypes\u001b[39m.\u001b[39;49mc_int(iteration),\n\u001b[1;32m   1920\u001b[0m                                             dtrain\u001b[39m.\u001b[39;49mhandle))\n\u001b[1;32m   1921\u001b[0m \u001b[39melse\u001b[39;00m:\n\u001b[1;32m   1922\u001b[0m     pred \u001b[39m=\u001b[39m \u001b[39mself\u001b[39m\u001b[39m.\u001b[39mpredict(dtrain, output_margin\u001b[39m=\u001b[39m\u001b[39mTrue\u001b[39;00m, training\u001b[39m=\u001b[39m\u001b[39mTrue\u001b[39;00m)\n",
            "\u001b[0;31mKeyboardInterrupt\u001b[0m: "
          ]
        }
      ],
      "source": [
        "#Hyperparameter tuning\n",
        "\n",
        "#Initialize domain space for range of values\n",
        "space={'max_depth': hp.quniform(\"max_depth\", 3, 18, 1),\n",
        "        'gamma': hp.uniform ('gamma', 1,9),\n",
        "        'reg_alpha' : hp.quniform('reg_alpha', 40,180,1),\n",
        "        'reg_lambda' : hp.uniform('reg_lambda', 0,1),\n",
        "        'colsample_bytree' : hp.uniform('colsample_bytree', 0.5,1),\n",
        "        'min_child_weight' : hp.quniform('min_child_weight', 0, 10, 1),\n",
        "        'n_estimators': 180,\n",
        "        'seed': 0,\n",
        "    }\n",
        "\n",
        "#Define objective function\n",
        "def objective(space):\n",
        "    clf=xgb.XGBRegressor(\n",
        "                    n_estimators =space['n_estimators'], max_depth = int(space['max_depth']), gamma = space['gamma'],\n",
        "                    reg_alpha = int(space['reg_alpha']),min_child_weight=int(space['min_child_weight']),\n",
        "                    colsample_bytree=int(space['colsample_bytree']))\n",
        "    \n",
        "    evaluation = [( X_train, y_train), ( X_test, y_test)]\n",
        "    \n",
        "    clf.fit(X_train, y_train,\n",
        "            eval_set=evaluation, eval_metric=\"rmse\",\n",
        "            early_stopping_rounds=10,verbose=False)\n",
        "    \n",
        "\n",
        "    pred = clf.predict(X_test)\n",
        "    accuracy = r2_score(y_test, pred>0.5)\n",
        "    print (\"SCORE:\", accuracy)\n",
        "    return {'loss': -accuracy, 'status': STATUS_OK }\n",
        "\n",
        "trials = Trials()\n",
        "\n",
        "#Optimize \n",
        "best_hyperparams = fmin(fn = objective,\n",
        "                        space = space,\n",
        "                        algo = tpe.suggest,\n",
        "                        max_evals = 50,\n",
        "                        trials = trials)\n",
        "\n",
        "print(\"The best hyperparameters are : \" , \"\\n\")\n",
        "print(best_hyperparams)"
      ]
    },
    {
      "cell_type": "code",
      "execution_count": 53,
      "metadata": {
        "colab": {
          "background_save": true,
          "base_uri": "https://localhost:8080/"
        },
        "id": "ecff2HhNiej0",
        "outputId": "350e136d-5060-4c1b-ebc2-00156ab9d178"
      },
      "outputs": [],
      "source": [
        "#Define the xgboost regression model\n",
        "model = XGBRegressor(n_estimators = 100, max_depth = 14, learning_rate = 0.3,\n",
        "                    colsample_bytree = 0.9423125131065853, gamma = 2.7106590852866628,\n",
        "                    min_child_weight = 3, reg_alpha = 42, reg_lambda = 0.5805879363282948, eta = 0.3,\n",
        "                    subsample = 0.8)\n",
        "\n",
        "#Train the model\n",
        "model.fit(X_train, y_train)\n",
        "\n",
        "\n",
        "#Predictions\n",
        "y_pred = model.predict(X_test)"
      ]
    },
    {
      "cell_type": "code",
      "execution_count": 59,
      "metadata": {},
      "outputs": [],
      "source": [
        "def print_results_gridsearch(gridsearch, list_param1, list_param2, name_param1, name_param2):\n",
        "  \n",
        "  # Checking the results from each run in the gridsearch: \n",
        "  means = gridsearch.cv_results_['mean_test_score']\n",
        "  stds = gridsearch.cv_results_['std_test_score']\n",
        "  params = gridsearch.cv_results_['params']\n",
        "  print(\"The results from each run in the gridsearch:\")\n",
        "  for mean, stdev, param in zip(means, stds, params):\n",
        "    print(\"roc_auc = %f (%f) with: %r\" % (mean, stdev, param))\n",
        "  \n",
        "  #Visualizing the results from each run in the gridsearch: \n",
        "  scores = np.array(means).reshape(len(list_param1), len(list_param2))\n",
        "  for i, value in enumerate(list_param1):\n",
        "    plt.plot(list_param2, scores[i], label= str(name_param1) + ': ' + str(value))\n",
        "    plt.legend()\n",
        "    plt.xlabel(str(name_param2))\n",
        "    plt.ylabel('ROC AUC')  \n",
        "    plt.show()\n",
        "    \n",
        "  # Checking the best performing model:\n",
        "  print(\"\\n\")\n",
        "  print(\"Best model: roc_auc = %f using %s\" % (gridsearch.best_score_, gridsearch.best_params_))"
      ]
    },
    {
      "cell_type": "code",
      "execution_count": 73,
      "metadata": {},
      "outputs": [],
      "source": [
        "#Best model after hyperparameter tuning\n",
        "\n",
        "#Define the xgboost regression model\n",
        "model = XGBRegressor(n_estimators = 1000, max_depth = 10, learning_rate = 0.2,\n",
        "                    colsample_bytree = 0.8, gamma = 0.15,\n",
        "                    min_child_weight = 2, reg_alpha = 42, reg_lambda = 0.5805879363282948, eta = 0.3,\n",
        "                    subsample = 0.8, scale_pos_weight = 1, nthread = 4, seed = 27)\n",
        "\n",
        "#Train the model\n",
        "model.fit(X_train, y_train)\n",
        "\n",
        "\n",
        "#Predictions\n",
        "y_pred = model.predict(X_test)"
      ]
    },
    {
      "cell_type": "code",
      "execution_count": 19,
      "metadata": {
        "colab": {
          "base_uri": "https://localhost:8080/"
        },
        "id": "YV05P02ZBNOU",
        "outputId": "848b1050-85bd-46f3-c1fb-1db2e9954c31"
      },
      "outputs": [
        {
          "name": "stdout",
          "output_type": "stream",
          "text": [
            "0.08346232486625865\n",
            "0.18834333412149212\n"
          ]
        }
      ],
      "source": [
        "#Training MSE\n",
        "print(mean_squared_error(y_train, model.predict(X_train)))\n",
        "\n",
        "#Testing MSE\n",
        "print(mean_squared_error(y_test, y_pred))"
      ]
    },
    {
      "cell_type": "code",
      "execution_count": 75,
      "metadata": {
        "colab": {
          "base_uri": "https://localhost:8080/"
        },
        "id": "quv2CfO6Dguh",
        "outputId": "1e6a2af4-2b68-4cf0-99b5-21f32dfb48c5"
      },
      "outputs": [
        {
          "data": {
            "text/plain": [
              "(31354, 245)"
            ]
          },
          "execution_count": 75,
          "metadata": {},
          "output_type": "execute_result"
        }
      ],
      "source": [
        "testData.shape"
      ]
    },
    {
      "cell_type": "code",
      "execution_count": 20,
      "metadata": {
        "id": "lWx1xVaMCAqT"
      },
      "outputs": [],
      "source": [
        "#Predict on the test data\n",
        "\n",
        "finalPreds = model.predict(testData[preds])"
      ]
    },
    {
      "cell_type": "code",
      "execution_count": 21,
      "metadata": {
        "colab": {
          "base_uri": "https://localhost:8080/",
          "height": 419
        },
        "id": "wXtTF8NGCGW2",
        "outputId": "4df0e915-7a83-4826-d0b8-97fffe71cb1f"
      },
      "outputs": [
        {
          "data": {
            "text/html": [
              "<div>\n",
              "<style scoped>\n",
              "    .dataframe tbody tr th:only-of-type {\n",
              "        vertical-align: middle;\n",
              "    }\n",
              "\n",
              "    .dataframe tbody tr th {\n",
              "        vertical-align: top;\n",
              "    }\n",
              "\n",
              "    .dataframe thead th {\n",
              "        text-align: right;\n",
              "    }\n",
              "</style>\n",
              "<table border=\"1\" class=\"dataframe\">\n",
              "  <thead>\n",
              "    <tr style=\"text-align: right;\">\n",
              "      <th></th>\n",
              "      <th>contest-tmp2m-14d__tmp2m</th>\n",
              "      <th>index</th>\n",
              "    </tr>\n",
              "  </thead>\n",
              "  <tbody>\n",
              "    <tr>\n",
              "      <th>0</th>\n",
              "      <td>29.693546</td>\n",
              "      <td>375734</td>\n",
              "    </tr>\n",
              "    <tr>\n",
              "      <th>1</th>\n",
              "      <td>29.656181</td>\n",
              "      <td>375735</td>\n",
              "    </tr>\n",
              "    <tr>\n",
              "      <th>2</th>\n",
              "      <td>29.735716</td>\n",
              "      <td>375736</td>\n",
              "    </tr>\n",
              "    <tr>\n",
              "      <th>3</th>\n",
              "      <td>29.746695</td>\n",
              "      <td>375737</td>\n",
              "    </tr>\n",
              "    <tr>\n",
              "      <th>4</th>\n",
              "      <td>29.604351</td>\n",
              "      <td>375738</td>\n",
              "    </tr>\n",
              "    <tr>\n",
              "      <th>...</th>\n",
              "      <td>...</td>\n",
              "      <td>...</td>\n",
              "    </tr>\n",
              "    <tr>\n",
              "      <th>31349</th>\n",
              "      <td>4.439295</td>\n",
              "      <td>407083</td>\n",
              "    </tr>\n",
              "    <tr>\n",
              "      <th>31350</th>\n",
              "      <td>5.537831</td>\n",
              "      <td>407084</td>\n",
              "    </tr>\n",
              "    <tr>\n",
              "      <th>31351</th>\n",
              "      <td>5.190330</td>\n",
              "      <td>407085</td>\n",
              "    </tr>\n",
              "    <tr>\n",
              "      <th>31352</th>\n",
              "      <td>4.375662</td>\n",
              "      <td>407086</td>\n",
              "    </tr>\n",
              "    <tr>\n",
              "      <th>31353</th>\n",
              "      <td>4.292018</td>\n",
              "      <td>407087</td>\n",
              "    </tr>\n",
              "  </tbody>\n",
              "</table>\n",
              "<p>31354 rows × 2 columns</p>\n",
              "</div>"
            ],
            "text/plain": [
              "       contest-tmp2m-14d__tmp2m   index\n",
              "0                     29.693546  375734\n",
              "1                     29.656181  375735\n",
              "2                     29.735716  375736\n",
              "3                     29.746695  375737\n",
              "4                     29.604351  375738\n",
              "...                         ...     ...\n",
              "31349                  4.439295  407083\n",
              "31350                  5.537831  407084\n",
              "31351                  5.190330  407085\n",
              "31352                  4.375662  407086\n",
              "31353                  4.292018  407087\n",
              "\n",
              "[31354 rows x 2 columns]"
            ]
          },
          "execution_count": 21,
          "metadata": {},
          "output_type": "execute_result"
        }
      ],
      "source": [
        "#Create dataframe to store the results\n",
        "results = pd.DataFrame(finalPreds, columns = ['contest-tmp2m-14d__tmp2m'])\n",
        "\n",
        "results['index'] = testData['index']\n",
        "\n",
        "results"
      ]
    },
    {
      "cell_type": "code",
      "execution_count": 22,
      "metadata": {
        "id": "Rke1JkIzCTtz"
      },
      "outputs": [],
      "source": [
        "results.to_csv('/Users/elliestrande/Desktop/WiDS/solution.csv', index = False)"
      ]
    }
  ],
  "metadata": {
    "colab": {
      "collapsed_sections": [
        "MMSX-nhGQSrX",
        "wCyWB_7vRmTa"
      ],
      "provenance": []
    },
    "kernelspec": {
      "display_name": "Python 3.9.7 64-bit",
      "language": "python",
      "name": "python3"
    },
    "language_info": {
      "codemirror_mode": {
        "name": "ipython",
        "version": 3
      },
      "file_extension": ".py",
      "mimetype": "text/x-python",
      "name": "python",
      "nbconvert_exporter": "python",
      "pygments_lexer": "ipython3",
      "version": "3.9.7"
    },
    "vscode": {
      "interpreter": {
        "hash": "aee8b7b246df8f9039afb4144a1f6fd8d2ca17a180786b69acc140d282b71a49"
      }
    }
  },
  "nbformat": 4,
  "nbformat_minor": 0
}
